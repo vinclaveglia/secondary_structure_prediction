{
 "cells": [
  {
   "cell_type": "markdown",
   "metadata": {},
   "source": [
    "### Loading libraries"
   ]
  },
  {
   "cell_type": "code",
   "execution_count": 114,
   "metadata": {},
   "outputs": [],
   "source": [
    "import torch\n",
    "import torch.nn as nn\n",
    "import os"
   ]
  },
  {
   "cell_type": "markdown",
   "metadata": {},
   "source": [
    "### Setup"
   ]
  },
  {
   "cell_type": "code",
   "execution_count": 115,
   "metadata": {},
   "outputs": [],
   "source": [
    "use_cuda = torch.cuda.is_available()\n",
    "device = torch.device(\"cuda:0\" if use_cuda else \"cpu\")"
   ]
  },
  {
   "cell_type": "code",
   "execution_count": 116,
   "metadata": {},
   "outputs": [],
   "source": [
    "aminoacids = \"ACDEFGHIKLMNPQRSTVWY\"\n",
    "struct_types = \"hst-\""
   ]
  },
  {
   "cell_type": "markdown",
   "metadata": {},
   "source": [
    "### Model loading (deve essere nello stesso path del notebook...)"
   ]
  },
  {
   "cell_type": "code",
   "execution_count": 125,
   "metadata": {},
   "outputs": [],
   "source": [
    "class RecurrentModel(nn.Module):\n",
    "\n",
    "    def __init__(self, in_size, out_size, hidden_size, n_layers):\n",
    "        super().__init__()\n",
    "        #self.rnn_model = nn.GRU(input_size=in_size, hidden_size=hidden_size, num_layers=n_layers)\n",
    "        self.rnn_model = nn.RNN(input_size=in_size, hidden_size=hidden_size, num_layers=n_layers)\n",
    "\n",
    "        self.final_layer = nn.Linear(in_features=hidden_size, out_features=out_size)\n",
    "\n",
    "\n",
    "    def forward(self, x):\n",
    "\n",
    "        x, hiddens = self.rnn_model(x)\n",
    "        #x = torch.relu(x)\n",
    "        x = self.final_layer(x)\n",
    "        #x = torch.sigmoid(x)\n",
    "        return x, hiddens"
   ]
  },
  {
   "cell_type": "code",
   "execution_count": 126,
   "metadata": {},
   "outputs": [],
   "source": [
    "def get_model(in_size, out_size, hidden_size, n_layers):\n",
    "\n",
    "    if hidden_size is None:\n",
    "        hidden_size = in_size\n",
    "\n",
    "    model = RecurrentModel(in_size, out_size, hidden_size, n_layers)\n",
    "    print(model)\n",
    "    return model"
   ]
  },
  {
   "cell_type": "code",
   "execution_count": 127,
   "metadata": {},
   "outputs": [
    {
     "name": "stdout",
     "output_type": "stream",
     "text": [
      "RecurrentModel(\n",
      "  (rnn_model): RNN(20, 20, num_layers=3)\n",
      "  (final_layer): Linear(in_features=20, out_features=4, bias=True)\n",
      ")\n"
     ]
    }
   ],
   "source": [
    "input_dim = 20\n",
    "output_dim = 4\n",
    "rnn = get_model(input_dim, output_dim, hidden_size=20, n_layers=3)"
   ]
  },
  {
   "cell_type": "code",
   "execution_count": 128,
   "metadata": {},
   "outputs": [],
   "source": [
    "state = torch.load('struc_classifier_SD2_0.7907', map_location=device)"
   ]
  },
  {
   "cell_type": "code",
   "execution_count": 129,
   "metadata": {},
   "outputs": [
    {
     "data": {
      "text/plain": [
       "<All keys matched successfully>"
      ]
     },
     "execution_count": 129,
     "metadata": {},
     "output_type": "execute_result"
    }
   ],
   "source": [
    "rnn.load_state_dict(state)"
   ]
  },
  {
   "cell_type": "markdown",
   "metadata": {},
   "source": [
    "### Show model architecture"
   ]
  },
  {
   "cell_type": "code",
   "execution_count": 134,
   "metadata": {},
   "outputs": [
    {
     "data": {
      "text/plain": [
       "RecurrentModel(\n",
       "  (rnn_model): RNN(20, 20, num_layers=3)\n",
       "  (final_layer): Linear(in_features=20, out_features=4, bias=True)\n",
       ")"
      ]
     },
     "execution_count": 134,
     "metadata": {},
     "output_type": "execute_result"
    }
   ],
   "source": [
    "rnn"
   ]
  },
  {
   "cell_type": "code",
   "execution_count": 135,
   "metadata": {},
   "outputs": [],
   "source": [
    "def sequenceToTensor(sequence):\n",
    "    aminoacids = \"ACDEFGHIKLMNPQRSTVWY\"\n",
    "    seqTensor = torch.zeros((len(sequence), len(aminoacids)))\n",
    "    for j, aa in enumerate(sequence):\n",
    "        aa_idx = aminoacids.index(aa)\n",
    "        seqTensor[j, aa_idx] = 1.\n",
    "    return seqTensor"
   ]
  },
  {
   "cell_type": "markdown",
   "metadata": {},
   "source": [
    "### Usage: insert aminoacid sequence"
   ]
  },
  {
   "cell_type": "code",
   "execution_count": 136,
   "metadata": {},
   "outputs": [
    {
     "name": "stdout",
     "output_type": "stream",
     "text": [
      "AYWTVTTTTTLMLMLMLMLMLLM\n"
     ]
    }
   ],
   "source": [
    "aminoacid_sequence = input()"
   ]
  },
  {
   "cell_type": "code",
   "execution_count": 137,
   "metadata": {},
   "outputs": [
    {
     "name": "stdout",
     "output_type": "stream",
     "text": [
      "AYWTVTTTTTLMLMLMLMLMLLM\n"
     ]
    }
   ],
   "source": [
    "print(aminoacid_sequence)"
   ]
  },
  {
   "cell_type": "markdown",
   "metadata": {},
   "source": [
    "### Data preprocessing step "
   ]
  },
  {
   "cell_type": "code",
   "execution_count": 138,
   "metadata": {},
   "outputs": [],
   "source": [
    "tensor_seq = sequenceToTensor(aminoacid_sequence)"
   ]
  },
  {
   "cell_type": "markdown",
   "metadata": {},
   "source": [
    "### Prediction step"
   ]
  },
  {
   "cell_type": "code",
   "execution_count": 139,
   "metadata": {},
   "outputs": [],
   "source": [
    "classifier = rnn"
   ]
  },
  {
   "cell_type": "code",
   "execution_count": 140,
   "metadata": {},
   "outputs": [],
   "source": [
    "with torch.no_grad():\n",
    "    classifier.eval()\n",
    "    out, _ = classifier(tensor_seq.unsqueeze(1))\n",
    "#print(out)"
   ]
  },
  {
   "cell_type": "code",
   "execution_count": 141,
   "metadata": {},
   "outputs": [
    {
     "data": {
      "text/plain": [
       "tensor([3, 3, 3, 3, 3, 3, 3, 3, 3, 3, 0, 0, 0, 0, 0, 0, 0, 0, 0, 0, 0, 0, 0])"
      ]
     },
     "execution_count": 141,
     "metadata": {},
     "output_type": "execute_result"
    }
   ],
   "source": [
    "out_idxs = out.squeeze().argmax(1)\n",
    "out_idxs"
   ]
  },
  {
   "cell_type": "markdown",
   "metadata": {},
   "source": [
    "### Encoding the prediction in a readable format"
   ]
  },
  {
   "cell_type": "code",
   "execution_count": 142,
   "metadata": {},
   "outputs": [
    {
     "name": "stdout",
     "output_type": "stream",
     "text": [
      "aminoacids :  ['A', 'Y', 'W', 'T', 'V', 'T', 'T', 'T', 'T', 'T', 'L', 'M', 'L', 'M', 'L', 'M', 'L', 'M', 'L', 'M', 'L', 'L', 'M']\n",
      "sec. struct:  ['-', '-', '-', '-', '-', '-', '-', '-', '-', '-', 'h', 'h', 'h', 'h', 'h', 'h', 'h', 'h', 'h', 'h', 'h', 'h', 'h']\n"
     ]
    }
   ],
   "source": [
    "predicted = [struct_types[j] for j in out_idxs]\n",
    "print(\"aminoacids : \",list(aminoacid_sequence))\n",
    "print(\"sec. struct: \", predicted)"
   ]
  },
  {
   "cell_type": "code",
   "execution_count": null,
   "metadata": {},
   "outputs": [],
   "source": []
  }
 ],
 "metadata": {
  "kernelspec": {
   "display_name": "Python 3",
   "language": "python",
   "name": "python3"
  },
  "language_info": {
   "codemirror_mode": {
    "name": "ipython",
    "version": 3
   },
   "file_extension": ".py",
   "mimetype": "text/x-python",
   "name": "python",
   "nbconvert_exporter": "python",
   "pygments_lexer": "ipython3",
   "version": "3.7.7"
  }
 },
 "nbformat": 4,
 "nbformat_minor": 4
}
